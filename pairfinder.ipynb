{
 "cells": [
  {
   "cell_type": "code",
   "execution_count": 120,
   "id": "a9c6097d-8165-45eb-839f-a3b2e39be31b",
   "metadata": {},
   "outputs": [],
   "source": [
    "from pairmaker import select_pairs, calculate_metrics, plot_pairs\n",
    "import numpy as np\n",
    "import pandas as pd\n",
    "import yfinance as yf"
   ]
  },
  {
   "cell_type": "code",
   "execution_count": 121,
   "id": "1bd5da30-ec22-4ba3-8c92-c54ad5d7777f",
   "metadata": {
    "collapsed": true,
    "jupyter": {
     "outputs_hidden": true
    }
   },
   "outputs": [
    {
     "name": "stderr",
     "output_type": "stream",
     "text": [
      "/home/zaki/Desktop/Pythonstuff/venv/lib/python3.13/site-packages/pandas/core/internals/blocks.py:395: RuntimeWarning: invalid value encountered in log\n",
      "  result = func(self.values, **kwargs)\n"
     ]
    }
   ],
   "source": [
    "pairs_train = pd.read_csv(\"pairs13_16.csv\")\n",
    "pairs_test = pd.read_csv(\"pairs16_19.csv\")\n",
    "prices_train = pd.read_csv('vbr13_16.csv', index_col='Date')\n",
    "prices_test = pd.read_csv('vbr16_19.csv', index_col='Date')\n",
    "\n",
    "\n",
    "# calculate cumulative returns\n",
    "cumret_train = np.log(prices_train).diff().cumsum()+1\n",
    "cumret_train.dropna(how='all', inplace=True)\n",
    "cumret_train.dropna(axis=1, inplace=True)\n",
    "cumret_test = np.log(prices_test).diff().cumsum()+1\n",
    "cumret_test.dropna(how='all', inplace=True)\n",
    "\n",
    "# divide by first row so that all prices start at 1\n",
    "cumret_train = cumret_train / cumret_train.iloc[0]\n",
    "cumret_test = cumret_test / cumret_test.iloc[0]\n",
    "\n"
   ]
  },
  {
   "cell_type": "code",
   "execution_count": 187,
   "id": "20f5d13c-cb13-4ca3-9fbd-3bb72e55a39f",
   "metadata": {},
   "outputs": [],
   "source": [
    "metrics_train_form = pd.read_csv(\"metric_form_13-16.csv\")\n",
    "metrics_train_trade = pd.read_csv(\"metric_trade_13-16.csv\")\n",
    "metrics_test_form = pd.read_csv(\"metric_form_16-19.csv\")\n",
    "metrics_test_trade = pd.read_csv(\"metric_trade_16-19.csv\")\n",
    "metrics_test_form = metrics_test_form.set_index(\"Pair\")\n",
    "metrics_train_form = metrics_train_form.set_index(\"Pair\")\n",
    "metrics_test_trade = metrics_test_trade.set_index(\"Pair\")\n",
    "metrics_train_trade = metrics_train_trade.set_index(\"Pair\")"
   ]
  },
  {
   "cell_type": "code",
   "execution_count": 189,
   "id": "315928b1-5d0f-4d13-a162-e40a8473fbce",
   "metadata": {},
   "outputs": [
    {
     "data": {
      "text/html": [
       "<div>\n",
       "<style scoped>\n",
       "    .dataframe tbody tr th:only-of-type {\n",
       "        vertical-align: middle;\n",
       "    }\n",
       "\n",
       "    .dataframe tbody tr th {\n",
       "        vertical-align: top;\n",
       "    }\n",
       "\n",
       "    .dataframe thead th {\n",
       "        text-align: right;\n",
       "    }\n",
       "</style>\n",
       "<table border=\"1\" class=\"dataframe\">\n",
       "  <thead>\n",
       "    <tr style=\"text-align: right;\">\n",
       "      <th></th>\n",
       "      <th>Distance</th>\n",
       "      <th>CADF p-value</th>\n",
       "      <th>ADF p-value</th>\n",
       "      <th>Spread SD</th>\n",
       "      <th>Pearson r</th>\n",
       "      <th>Num zero-crossings</th>\n",
       "      <th>Hurst Exponent</th>\n",
       "      <th>Half-life of mean reversion</th>\n",
       "      <th>% days within historical 2-SD band</th>\n",
       "      <th>Hedge ratio</th>\n",
       "      <th>Num zero-crossings trade</th>\n",
       "    </tr>\n",
       "    <tr>\n",
       "      <th>Pair</th>\n",
       "      <th></th>\n",
       "      <th></th>\n",
       "      <th></th>\n",
       "      <th></th>\n",
       "      <th></th>\n",
       "      <th></th>\n",
       "      <th></th>\n",
       "      <th></th>\n",
       "      <th></th>\n",
       "      <th></th>\n",
       "      <th></th>\n",
       "    </tr>\n",
       "  </thead>\n",
       "  <tbody>\n",
       "    <tr>\n",
       "      <th>IEX-GRA</th>\n",
       "      <td>1.632826</td>\n",
       "      <td>0.006148</td>\n",
       "      <td>0.001196</td>\n",
       "      <td>0.059464</td>\n",
       "      <td>0.925808</td>\n",
       "      <td>56</td>\n",
       "      <td>0.378031</td>\n",
       "      <td>17.773619</td>\n",
       "      <td>94.437086</td>\n",
       "      <td>1.444374</td>\n",
       "      <td>0</td>\n",
       "    </tr>\n",
       "    <tr>\n",
       "      <th>IEX-ADS</th>\n",
       "      <td>1.007115</td>\n",
       "      <td>0.006580</td>\n",
       "      <td>0.001291</td>\n",
       "      <td>0.036677</td>\n",
       "      <td>0.972442</td>\n",
       "      <td>79</td>\n",
       "      <td>0.357466</td>\n",
       "      <td>16.505057</td>\n",
       "      <td>95.231788</td>\n",
       "      <td>0.743826</td>\n",
       "      <td>2</td>\n",
       "    </tr>\n",
       "    <tr>\n",
       "      <th>MOH-SCI</th>\n",
       "      <td>1.819716</td>\n",
       "      <td>0.002281</td>\n",
       "      <td>0.000395</td>\n",
       "      <td>0.066270</td>\n",
       "      <td>0.976015</td>\n",
       "      <td>52</td>\n",
       "      <td>0.304781</td>\n",
       "      <td>12.654336</td>\n",
       "      <td>97.086093</td>\n",
       "      <td>1.373158</td>\n",
       "      <td>9</td>\n",
       "    </tr>\n",
       "    <tr>\n",
       "      <th>MOH-FHN</th>\n",
       "      <td>2.578471</td>\n",
       "      <td>0.002251</td>\n",
       "      <td>0.000390</td>\n",
       "      <td>0.093902</td>\n",
       "      <td>0.951233</td>\n",
       "      <td>54</td>\n",
       "      <td>0.356214</td>\n",
       "      <td>14.266102</td>\n",
       "      <td>95.629139</td>\n",
       "      <td>2.089341</td>\n",
       "      <td>4</td>\n",
       "    </tr>\n",
       "    <tr>\n",
       "      <th>MOH-POLY</th>\n",
       "      <td>3.428606</td>\n",
       "      <td>0.005746</td>\n",
       "      <td>0.001110</td>\n",
       "      <td>0.124862</td>\n",
       "      <td>0.912004</td>\n",
       "      <td>66</td>\n",
       "      <td>0.338789</td>\n",
       "      <td>14.860935</td>\n",
       "      <td>94.569536</td>\n",
       "      <td>2.704551</td>\n",
       "      <td>0</td>\n",
       "    </tr>\n",
       "    <tr>\n",
       "      <th>...</th>\n",
       "      <td>...</td>\n",
       "      <td>...</td>\n",
       "      <td>...</td>\n",
       "      <td>...</td>\n",
       "      <td>...</td>\n",
       "      <td>...</td>\n",
       "      <td>...</td>\n",
       "      <td>...</td>\n",
       "      <td>...</td>\n",
       "      <td>...</td>\n",
       "      <td>...</td>\n",
       "    </tr>\n",
       "    <tr>\n",
       "      <th>KRO-MUR</th>\n",
       "      <td>2.774052</td>\n",
       "      <td>0.005237</td>\n",
       "      <td>0.000996</td>\n",
       "      <td>0.101025</td>\n",
       "      <td>0.926225</td>\n",
       "      <td>41</td>\n",
       "      <td>0.440060</td>\n",
       "      <td>20.279975</td>\n",
       "      <td>94.834437</td>\n",
       "      <td>0.972470</td>\n",
       "      <td>8</td>\n",
       "    </tr>\n",
       "    <tr>\n",
       "      <th>KRO-SWN</th>\n",
       "      <td>2.681712</td>\n",
       "      <td>0.008362</td>\n",
       "      <td>0.001681</td>\n",
       "      <td>0.097662</td>\n",
       "      <td>0.931234</td>\n",
       "      <td>66</td>\n",
       "      <td>0.426719</td>\n",
       "      <td>21.526618</td>\n",
       "      <td>91.655629</td>\n",
       "      <td>0.554539</td>\n",
       "      <td>14</td>\n",
       "    </tr>\n",
       "    <tr>\n",
       "      <th>KRO-HSC</th>\n",
       "      <td>2.518113</td>\n",
       "      <td>0.006980</td>\n",
       "      <td>0.001378</td>\n",
       "      <td>0.091704</td>\n",
       "      <td>0.939630</td>\n",
       "      <td>47</td>\n",
       "      <td>0.394814</td>\n",
       "      <td>18.663369</td>\n",
       "      <td>96.821192</td>\n",
       "      <td>0.875248</td>\n",
       "      <td>4</td>\n",
       "    </tr>\n",
       "    <tr>\n",
       "      <th>UBA-IRDM</th>\n",
       "      <td>1.303215</td>\n",
       "      <td>0.008677</td>\n",
       "      <td>0.001748</td>\n",
       "      <td>0.047460</td>\n",
       "      <td>0.769064</td>\n",
       "      <td>66</td>\n",
       "      <td>0.386655</td>\n",
       "      <td>17.538026</td>\n",
       "      <td>96.158940</td>\n",
       "      <td>0.347603</td>\n",
       "      <td>1</td>\n",
       "    </tr>\n",
       "    <tr>\n",
       "      <th>RES-PTEN</th>\n",
       "      <td>1.702383</td>\n",
       "      <td>0.009160</td>\n",
       "      <td>0.001876</td>\n",
       "      <td>0.061997</td>\n",
       "      <td>0.958558</td>\n",
       "      <td>71</td>\n",
       "      <td>0.401309</td>\n",
       "      <td>14.807848</td>\n",
       "      <td>93.907285</td>\n",
       "      <td>0.826267</td>\n",
       "      <td>0</td>\n",
       "    </tr>\n",
       "  </tbody>\n",
       "</table>\n",
       "<p>3471 rows × 11 columns</p>\n",
       "</div>"
      ],
      "text/plain": [
       "          Distance  CADF p-value  ADF p-value  Spread SD  Pearson r  \\\n",
       "Pair                                                                  \n",
       "IEX-GRA   1.632826      0.006148     0.001196   0.059464   0.925808   \n",
       "IEX-ADS   1.007115      0.006580     0.001291   0.036677   0.972442   \n",
       "MOH-SCI   1.819716      0.002281     0.000395   0.066270   0.976015   \n",
       "MOH-FHN   2.578471      0.002251     0.000390   0.093902   0.951233   \n",
       "MOH-POLY  3.428606      0.005746     0.001110   0.124862   0.912004   \n",
       "...            ...           ...          ...        ...        ...   \n",
       "KRO-MUR   2.774052      0.005237     0.000996   0.101025   0.926225   \n",
       "KRO-SWN   2.681712      0.008362     0.001681   0.097662   0.931234   \n",
       "KRO-HSC   2.518113      0.006980     0.001378   0.091704   0.939630   \n",
       "UBA-IRDM  1.303215      0.008677     0.001748   0.047460   0.769064   \n",
       "RES-PTEN  1.702383      0.009160     0.001876   0.061997   0.958558   \n",
       "\n",
       "          Num zero-crossings  Hurst Exponent  Half-life of mean reversion  \\\n",
       "Pair                                                                        \n",
       "IEX-GRA                   56        0.378031                    17.773619   \n",
       "IEX-ADS                   79        0.357466                    16.505057   \n",
       "MOH-SCI                   52        0.304781                    12.654336   \n",
       "MOH-FHN                   54        0.356214                    14.266102   \n",
       "MOH-POLY                  66        0.338789                    14.860935   \n",
       "...                      ...             ...                          ...   \n",
       "KRO-MUR                   41        0.440060                    20.279975   \n",
       "KRO-SWN                   66        0.426719                    21.526618   \n",
       "KRO-HSC                   47        0.394814                    18.663369   \n",
       "UBA-IRDM                  66        0.386655                    17.538026   \n",
       "RES-PTEN                  71        0.401309                    14.807848   \n",
       "\n",
       "          % days within historical 2-SD band  Hedge ratio  \\\n",
       "Pair                                                        \n",
       "IEX-GRA                            94.437086     1.444374   \n",
       "IEX-ADS                            95.231788     0.743826   \n",
       "MOH-SCI                            97.086093     1.373158   \n",
       "MOH-FHN                            95.629139     2.089341   \n",
       "MOH-POLY                           94.569536     2.704551   \n",
       "...                                      ...          ...   \n",
       "KRO-MUR                            94.834437     0.972470   \n",
       "KRO-SWN                            91.655629     0.554539   \n",
       "KRO-HSC                            96.821192     0.875248   \n",
       "UBA-IRDM                           96.158940     0.347603   \n",
       "RES-PTEN                           93.907285     0.826267   \n",
       "\n",
       "          Num zero-crossings trade  \n",
       "Pair                                \n",
       "IEX-GRA                          0  \n",
       "IEX-ADS                          2  \n",
       "MOH-SCI                          9  \n",
       "MOH-FHN                          4  \n",
       "MOH-POLY                         0  \n",
       "...                            ...  \n",
       "KRO-MUR                          8  \n",
       "KRO-SWN                         14  \n",
       "KRO-HSC                          4  \n",
       "UBA-IRDM                         1  \n",
       "RES-PTEN                         0  \n",
       "\n",
       "[3471 rows x 11 columns]"
      ]
     },
     "execution_count": 189,
     "metadata": {},
     "output_type": "execute_result"
    }
   ],
   "source": [
    "data_train = metrics_train_form\n",
    "data_train['Num zero-crossings trade'] = metrics_train_trade['Num zero-crossings']\n",
    "data_test = metrics_test_form\n",
    "data_test['Num zero-crossings trade'] = metrics_test_trade['Num zero-crossings']\n",
    "# convert data to numeric types\n",
    "data_train"
   ]
  },
  {
   "cell_type": "code",
   "execution_count": 190,
   "id": "ea1ceae4-4d90-4816-ba42-93fee06fd45e",
   "metadata": {},
   "outputs": [],
   "source": [
    "X_train = data_train.values[:,:10]\n",
    "X_test = data_test.values[:,:10]\n",
    "y_train = data_train.values[:,10]\n",
    "y_test = data_test.values[:,10]"
   ]
  },
  {
   "cell_type": "code",
   "execution_count": 191,
   "id": "aed0ad54-db6e-4dd8-b905-a8dbcc747ae1",
   "metadata": {},
   "outputs": [
    {
     "data": {
      "text/plain": [
       "0.31547104580812446"
      ]
     },
     "execution_count": 191,
     "metadata": {},
     "output_type": "execute_result"
    }
   ],
   "source": [
    "\n",
    "\n",
    "# what fraction of samples has more than 6 crossings?\n",
    "len(y_train[y_train>6]) / len(y_train)\n",
    "\n"
   ]
  },
  {
   "cell_type": "code",
   "execution_count": 198,
   "id": "a01f3012-b203-425d-8f8f-f50466f6459a",
   "metadata": {},
   "outputs": [],
   "source": [
    "from sklearn.preprocessing import Binarizer\n",
    "\n",
    "# binarize dependent variable\n",
    "binarizer = Binarizer(threshold=6).fit(y_train.reshape(-1,1))\n",
    "y_train_bin = binarizer.transform(y_train.reshape(-1,1))\n",
    "binarizer = Binarizer(threshold=6).fit(y_test.reshape(-1,1))\n",
    "y_test_bin = binarizer.transform(y_test.reshape(-1,1))\n",
    "\n"
   ]
  },
  {
   "cell_type": "code",
   "execution_count": 199,
   "id": "b4486e18-11e8-457c-9a6f-5a2cae0021a4",
   "metadata": {},
   "outputs": [],
   "source": [
    "from sklearn.preprocessing import PowerTransformer\n",
    "from sklearn.model_selection import StratifiedKFold\n",
    "from sklearn.model_selection import cross_val_score\n",
    "from sklearn.pipeline import Pipeline\n",
    "from sklearn.decomposition import PCA\n",
    "from sklearn.linear_model import LogisticRegression\n",
    "from sklearn.discriminant_analysis import LinearDiscriminantAnalysis\n",
    "from sklearn.neighbors import KNeighborsClassifier\n",
    "from sklearn.tree import DecisionTreeClassifier\n",
    "from sklearn.naive_bayes import GaussianNB\n",
    "from sklearn.svm import SVC\n",
    "\n"
   ]
  },
  {
   "cell_type": "code",
   "execution_count": 200,
   "id": "7721975b-f885-4fa5-b074-7ae7a8ec8379",
   "metadata": {},
   "outputs": [],
   "source": [
    "def top10_accuracy(estimator, X, y):\n",
    "    '''\n",
    "    compute accuracy of top 10 predictions:\n",
    "    select top 10 samples with the highest probability of belonging to class 1\n",
    "    return the fraction of samples actually belonging to class1\n",
    "    '''\n",
    "    pred_prob = estimator.predict_proba(X)\n",
    "    top10_ind = np.argsort(pred_prob[:,1])[-10:]\n",
    "    score = sum(y[top10_ind] == np.ones(10))/10\n",
    "    \n",
    "    return score\n"
   ]
  },
  {
   "cell_type": "code",
   "execution_count": 201,
   "id": "f31f0a6f-bd88-43a5-9820-990f6605acf0",
   "metadata": {},
   "outputs": [],
   "source": [
    "def test_models_class(models, X=X_train, y=y_train_bin.flatten(), n_folds=10, scoring=top10_accuracy, seed=45):\n",
    "    '''\n",
    "    cross-validate each model in models using n_folds and scoring\n",
    "    '''\n",
    "    \n",
    "    results = []\n",
    "    names = []\n",
    "    for name,model in models:\n",
    "        kfold = StratifiedKFold(n_splits=n_folds, shuffle=True, random_state=seed)\n",
    "        cv_results = cross_val_score(model, X, y, cv=kfold, scoring=scoring)\n",
    "        results.append(cv_results)\n",
    "        names.append(name)\n",
    "        print(f'{name}: {cv_results.mean()} ({cv_results.std()})')\n",
    "        \n",
    "    return results, names"
   ]
  },
  {
   "cell_type": "code",
   "execution_count": 202,
   "id": "c30543cb-372d-444b-b566-9cdde7c5ae20",
   "metadata": {},
   "outputs": [],
   "source": [
    "models = []\n",
    "models.append(('LR', LogisticRegression(max_iter=300, class_weight='balanced')))\n",
    "models.append(('LDA', LinearDiscriminantAnalysis()))\n",
    "models.append(('KNN', KNeighborsClassifier()))\n",
    "models.append(('CART', DecisionTreeClassifier(class_weight='balanced')))\n",
    "models.append(('NB', GaussianNB()))\n",
    "models.append(('SVM', SVC(class_weight='balanced', probability=True)))\n"
   ]
  },
  {
   "cell_type": "code",
   "execution_count": 203,
   "id": "bcb52a9d-1bf2-403e-baea-b88af4577db0",
   "metadata": {
    "collapsed": true,
    "jupyter": {
     "outputs_hidden": true
    }
   },
   "outputs": [
    {
     "name": "stderr",
     "output_type": "stream",
     "text": [
      "/home/zaki/Desktop/Pythonstuff/venv/lib/python3.13/site-packages/sklearn/linear_model/_logistic.py:473: ConvergenceWarning: lbfgs failed to converge after 300 iteration(s) (status=1):\n",
      "STOP: TOTAL NO. OF ITERATIONS REACHED LIMIT\n",
      "\n",
      "Increase the number of iterations to improve the convergence (max_iter=300).\n",
      "You might also want to scale the data as shown in:\n",
      "    https://scikit-learn.org/stable/modules/preprocessing.html\n",
      "Please also refer to the documentation for alternative solver options:\n",
      "    https://scikit-learn.org/stable/modules/linear_model.html#logistic-regression\n",
      "  n_iter_i = _check_optimize_result(\n",
      "/home/zaki/Desktop/Pythonstuff/venv/lib/python3.13/site-packages/sklearn/linear_model/_logistic.py:473: ConvergenceWarning: lbfgs failed to converge after 300 iteration(s) (status=1):\n",
      "STOP: TOTAL NO. OF ITERATIONS REACHED LIMIT\n",
      "\n",
      "Increase the number of iterations to improve the convergence (max_iter=300).\n",
      "You might also want to scale the data as shown in:\n",
      "    https://scikit-learn.org/stable/modules/preprocessing.html\n",
      "Please also refer to the documentation for alternative solver options:\n",
      "    https://scikit-learn.org/stable/modules/linear_model.html#logistic-regression\n",
      "  n_iter_i = _check_optimize_result(\n",
      "/home/zaki/Desktop/Pythonstuff/venv/lib/python3.13/site-packages/sklearn/linear_model/_logistic.py:473: ConvergenceWarning: lbfgs failed to converge after 300 iteration(s) (status=1):\n",
      "STOP: TOTAL NO. OF ITERATIONS REACHED LIMIT\n",
      "\n",
      "Increase the number of iterations to improve the convergence (max_iter=300).\n",
      "You might also want to scale the data as shown in:\n",
      "    https://scikit-learn.org/stable/modules/preprocessing.html\n",
      "Please also refer to the documentation for alternative solver options:\n",
      "    https://scikit-learn.org/stable/modules/linear_model.html#logistic-regression\n",
      "  n_iter_i = _check_optimize_result(\n",
      "/home/zaki/Desktop/Pythonstuff/venv/lib/python3.13/site-packages/sklearn/linear_model/_logistic.py:473: ConvergenceWarning: lbfgs failed to converge after 300 iteration(s) (status=1):\n",
      "STOP: TOTAL NO. OF ITERATIONS REACHED LIMIT\n",
      "\n",
      "Increase the number of iterations to improve the convergence (max_iter=300).\n",
      "You might also want to scale the data as shown in:\n",
      "    https://scikit-learn.org/stable/modules/preprocessing.html\n",
      "Please also refer to the documentation for alternative solver options:\n",
      "    https://scikit-learn.org/stable/modules/linear_model.html#logistic-regression\n",
      "  n_iter_i = _check_optimize_result(\n",
      "/home/zaki/Desktop/Pythonstuff/venv/lib/python3.13/site-packages/sklearn/linear_model/_logistic.py:473: ConvergenceWarning: lbfgs failed to converge after 300 iteration(s) (status=1):\n",
      "STOP: TOTAL NO. OF ITERATIONS REACHED LIMIT\n",
      "\n",
      "Increase the number of iterations to improve the convergence (max_iter=300).\n",
      "You might also want to scale the data as shown in:\n",
      "    https://scikit-learn.org/stable/modules/preprocessing.html\n",
      "Please also refer to the documentation for alternative solver options:\n",
      "    https://scikit-learn.org/stable/modules/linear_model.html#logistic-regression\n",
      "  n_iter_i = _check_optimize_result(\n",
      "/home/zaki/Desktop/Pythonstuff/venv/lib/python3.13/site-packages/sklearn/linear_model/_logistic.py:473: ConvergenceWarning: lbfgs failed to converge after 300 iteration(s) (status=1):\n",
      "STOP: TOTAL NO. OF ITERATIONS REACHED LIMIT\n",
      "\n",
      "Increase the number of iterations to improve the convergence (max_iter=300).\n",
      "You might also want to scale the data as shown in:\n",
      "    https://scikit-learn.org/stable/modules/preprocessing.html\n",
      "Please also refer to the documentation for alternative solver options:\n",
      "    https://scikit-learn.org/stable/modules/linear_model.html#logistic-regression\n",
      "  n_iter_i = _check_optimize_result(\n",
      "/home/zaki/Desktop/Pythonstuff/venv/lib/python3.13/site-packages/sklearn/linear_model/_logistic.py:473: ConvergenceWarning: lbfgs failed to converge after 300 iteration(s) (status=1):\n",
      "STOP: TOTAL NO. OF ITERATIONS REACHED LIMIT\n",
      "\n",
      "Increase the number of iterations to improve the convergence (max_iter=300).\n",
      "You might also want to scale the data as shown in:\n",
      "    https://scikit-learn.org/stable/modules/preprocessing.html\n",
      "Please also refer to the documentation for alternative solver options:\n",
      "    https://scikit-learn.org/stable/modules/linear_model.html#logistic-regression\n",
      "  n_iter_i = _check_optimize_result(\n"
     ]
    },
    {
     "name": "stdout",
     "output_type": "stream",
     "text": [
      "LR: 0.48999999999999994 (0.14456832294800961)\n",
      "LDA: 0.44000000000000006 (0.11135528725660043)\n",
      "KNN: 0.5599999999999999 (0.16852299546352714)\n",
      "CART: 0.42000000000000004 (0.13999999999999999)\n",
      "NB: 0.48 (0.15999999999999998)\n",
      "SVM: 0.30000000000000004 (0.1341640786499874)\n"
     ]
    }
   ],
   "source": [
    "results,names = test_models_class(models, y=y_train_bin.flatten())\n"
   ]
  },
  {
   "cell_type": "code",
   "execution_count": 204,
   "id": "a931fbc6-b248-4c34-bea7-68b30a4a9094",
   "metadata": {},
   "outputs": [
    {
     "name": "stdout",
     "output_type": "stream",
     "text": [
      "scaledLR: 0.41999999999999993 (0.10770329614269007)\n",
      "scaledLDA: 0.45 (0.09219544457292887)\n",
      "scaledKNN: 0.6399999999999999 (0.14966629547095767)\n",
      "scaledCART: 0.4600000000000001 (0.11999999999999998)\n",
      "scaledNB: 0.67 (0.12688577540449522)\n",
      "scaledSVM: 0.61 (0.09433981132056601)\n"
     ]
    }
   ],
   "source": [
    "pipelines = []\n",
    "for name,model in models:\n",
    "    pipelines.append((f'scaled{name}', Pipeline([('scaler', PowerTransformer(method='box-cox')),\n",
    "                                                 (name,model)])))\n",
    "    \n",
    "results,names = test_models_class(pipelines, y=y_train_bin.flatten())\n"
   ]
  },
  {
   "cell_type": "code",
   "execution_count": 205,
   "id": "2e0cf5e5-fc42-4e6a-8bb9-b52ce4f1e606",
   "metadata": {},
   "outputs": [
    {
     "name": "stdout",
     "output_type": "stream",
     "text": [
      "scaledLR_4ft: 0.35 (0.14317821063276354)\n",
      "scaledLDA_4ft: 0.42000000000000004 (0.132664991614216)\n",
      "scaledKNN_4ft: 0.7 (0.1341640786499874)\n",
      "scaledCART_4ft: 0.41000000000000003 (0.12999999999999998)\n",
      "scaledNB_4ft: 0.67 (0.15524174696260024)\n",
      "scaledSVM_4ft: 0.5 (0.161245154965971)\n"
     ]
    }
   ],
   "source": [
    "from sklearn.feature_selection import SelectKBest\n",
    "from sklearn.feature_selection import f_classif\n",
    "\n",
    "pipelines = []\n",
    "for name,model in models:\n",
    "    pipelines.append((f'scaled{name}_4ft', Pipeline([('scaler', PowerTransformer(method='box-cox')),\n",
    "                                                 ('KBest', SelectKBest(score_func=f_classif, k=4)),\n",
    "                                                 (name,model)])))\n",
    "    \n",
    "results,names = test_models_class(pipelines, y=y_train_bin.flatten())\n"
   ]
  },
  {
   "cell_type": "code",
   "execution_count": 206,
   "id": "8f470431-2c3f-4bb3-a58f-3c3f55924e7f",
   "metadata": {},
   "outputs": [
    {
     "name": "stdout",
     "output_type": "stream",
     "text": [
      "ADA: 0.74 (0.10198039027185572)\n",
      "GBM: 0.7499999999999999 (0.13601470508735444)\n",
      "RF: 0.77 (0.13453624047073712)\n",
      "ET: 0.7699999999999999 (0.12688577540449522)\n"
     ]
    }
   ],
   "source": [
    "from sklearn.ensemble import AdaBoostClassifier\n",
    "from sklearn.ensemble import GradientBoostingClassifier\n",
    "from sklearn.ensemble import RandomForestClassifier\n",
    "from sklearn.ensemble import ExtraTreesClassifier\n",
    "\n",
    "ensembles = []\n",
    "ensembles.append(('ADA', AdaBoostClassifier()))\n",
    "ensembles.append(('GBM', GradientBoostingClassifier()))\n",
    "ensembles.append(('RF', RandomForestClassifier(class_weight='balanced')))\n",
    "ensembles.append(('ET', ExtraTreesClassifier(class_weight='balanced')))\n",
    "\n",
    "results,names = test_models_class(ensembles, y=y_train_bin.flatten())\n"
   ]
  },
  {
   "cell_type": "code",
   "execution_count": 207,
   "id": "9d9b6056-46c9-41dd-83be-2c44ebee87fd",
   "metadata": {},
   "outputs": [],
   "source": [
    "from sklearn.model_selection import GridSearchCV\n",
    "\n",
    "n_estimators=[10,50,100,150]\n",
    "max_depth = [5,7,10,15]\n",
    "max_leaf_nodes = [50,100,150]\n",
    "min_samples_leaf = [1,3,5,7,10,15]\n",
    "param_grid = dict(n_estimators=n_estimators, max_depth=max_depth, \n",
    "                  max_leaf_nodes=max_leaf_nodes, min_samples_leaf=min_samples_leaf)\n",
    "model = ExtraTreesClassifier(class_weight='balanced')\n",
    "kfold = StratifiedKFold(n_splits=10, shuffle=True, random_state=45)\n",
    "grid = GridSearchCV(estimator=model, param_grid=param_grid, scoring=top10_accuracy, cv=kfold)\n",
    "grid_result = grid.fit(X_train, y_train_bin.flatten())\n"
   ]
  },
  {
   "cell_type": "code",
   "execution_count": 208,
   "id": "7e37bcc8-dc4f-4112-a530-0dd9ca03b715",
   "metadata": {},
   "outputs": [
    {
     "name": "stdout",
     "output_type": "stream",
     "text": [
      "0.82\n",
      "{'max_depth': 10, 'max_leaf_nodes': 150, 'min_samples_leaf': 3, 'n_estimators': 150}\n"
     ]
    }
   ],
   "source": [
    "print(grid_result.best_score_)\n",
    "print(grid_result.best_params_)"
   ]
  },
  {
   "cell_type": "code",
   "execution_count": 209,
   "id": "dd80f030-dbbc-4e25-b7d8-aff9be311436",
   "metadata": {},
   "outputs": [
    {
     "name": "stdout",
     "output_type": "stream",
     "text": [
      "scaledLR_4ft_cv: 0.31999999999999995 (0.12489995996796797)\n"
     ]
    }
   ],
   "source": [
    "from sklearn.linear_model import LogisticRegressionCV\n",
    "\n",
    "models = [('scaledLR_4ft_cv', Pipeline([('scaler', PowerTransformer(method='box-cox')), \n",
    "                            ('KBest', SelectKBest(score_func=f_classif, k=4)), \n",
    "                            ('LR', LogisticRegressionCV(max_iter=300, class_weight='balanced', \n",
    "                                                        scoring=top10_accuracy))]))]\n",
    "\n",
    "results,names = test_models_class(models, y=y_train_bin.flatten())\n"
   ]
  },
  {
   "cell_type": "code",
   "execution_count": null,
   "id": "720bd1af-7150-4fe2-a4d2-5a084aed26b5",
   "metadata": {},
   "outputs": [],
   "source": [
    "scaler = PowerTransformer(method='box-cox').fit(X_train)\n",
    "scaledX = scaler.transform(X_train)\n",
    "scaledX_4ft = SelectKBest(score_func=f_classif, k=4).fit_transform(X_train, y_train_bin.flatten())\n",
    "c_values = [0.1, 0.3, 0.5, 0.7, 0.9, 1.0, 1.3, 1.5, 1.7, 2]\n",
    "kernel_values = ['linear', 'poly', 'rbf', 'sigmoid']\n",
    "param_grid = dict(C=c_values, kernel=kernel_values)\n",
    "model = SVC(class_weight='balanced', probability=True)\n",
    "kfold = StratifiedKFold(n_splits=10, shuffle=True, random_state=45)\n",
    "grid = GridSearchCV(estimator=model, param_grid=param_grid, scoring=top10_accuracy, cv=kfold)\n",
    "grid_result = grid.fit(scaledX_4ft, y_train_bin.flatten())\n"
   ]
  },
  {
   "cell_type": "code",
   "execution_count": null,
   "id": "937306d4-3233-4577-8387-16975fcbc3a7",
   "metadata": {},
   "outputs": [],
   "source": [
    "scaler = PowerTransformer(method='box-cox').fit(X_train)\n",
    "scaledX = scaler.transform(X_train)\n",
    "scaledX_4ft = SelectKBest(score_func=f_classif, k=4).fit_transform(X_train, y_train_bin.flatten())\n",
    "param_grid = dict(n_neighbors=np.arange(1,22,2))\n",
    "model = KNeighborsClassifier()\n",
    "kfold = StratifiedKFold(n_splits=10, shuffle=True, random_state=45)\n",
    "grid = GridSearchCV(estimator=model, param_grid=param_grid, scoring=top10_accuracy, cv=kfold)\n",
    "grid_result = grid.fit(scaledX_4ft, y_train_bin.flatten())\n"
   ]
  },
  {
   "cell_type": "code",
   "execution_count": null,
   "id": "040e379f-202f-42c8-bb7f-356965456d74",
   "metadata": {},
   "outputs": [],
   "source": [
    "# train ET using parameters obtained in grid search\n",
    "model = ExtraTreesClassifier(class_weight='balanced', max_depth=10, max_leaf_nodes=50, \n",
    "                             min_samples_leaf=15, n_estimators=10)\n",
    "model.fit(X_train, y_train_bin.flatten())\n",
    "\n"
   ]
  },
  {
   "cell_type": "code",
   "execution_count": null,
   "id": "dd09abd2-b3ca-4cf6-8efb-864f2cfdd7c2",
   "metadata": {},
   "outputs": [],
   "source": [
    "pred_prob = model.predict_proba(X_test) # predict probabilities\n",
    "# select top 10 pairs with highest probability of belonging to class 1 (sort in descending order)\n",
    "top10_ind = np.argsort(pred_prob[:,1])[-10:][::-1] \n",
    "data_test.iloc[top10_ind,:] # show data"
   ]
  },
  {
   "cell_type": "code",
   "execution_count": null,
   "id": "1f78dc8c-c957-46b7-90fe-bf32deeb91d3",
   "metadata": {},
   "outputs": [],
   "source": [
    "\n",
    "\n",
    "top50_ind = np.argsort(pred_prob[:,1])[-50:][::-1]\n",
    "top50_pairs = data_test.iloc[top50_ind,:].index\n",
    "\n",
    "selected_pairs = []\n",
    "selected_stocks = []\n",
    "for pair in top50_pairs:\n",
    "    s1,s2 = parse_pair(pair)\n",
    "    if (s1 not in selected_stocks) and (s2 not in selected_stocks):\n",
    "        selected_stocks.append(s1)\n",
    "        selected_stocks.append(s2)\n",
    "        selected_pairs.append(pair)\n",
    "        \n",
    "        if len(selected_pairs)==5:\n",
    "            break\n",
    "\n"
   ]
  },
  {
   "cell_type": "code",
   "execution_count": null,
   "id": "1a002e8b-0093-4206-9135-8eec0e75928f",
   "metadata": {},
   "outputs": [],
   "source": [
    "plot_pairs(selected_pairs, test_form, test_trade)"
   ]
  },
  {
   "cell_type": "code",
   "execution_count": null,
   "id": "cc453578-70a4-4f3b-a112-08d2865e741b",
   "metadata": {},
   "outputs": [],
   "source": []
  }
 ],
 "metadata": {
  "kernelspec": {
   "display_name": "Python 3 (ipykernel)",
   "language": "python",
   "name": "python3"
  },
  "language_info": {
   "codemirror_mode": {
    "name": "ipython",
    "version": 3
   },
   "file_extension": ".py",
   "mimetype": "text/x-python",
   "name": "python",
   "nbconvert_exporter": "python",
   "pygments_lexer": "ipython3",
   "version": "3.13.3"
  }
 },
 "nbformat": 4,
 "nbformat_minor": 5
}
